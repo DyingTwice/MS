{
  "nbformat": 4,
  "nbformat_minor": 0,
  "metadata": {
    "colab": {
      "provenance": [],
      "collapsed_sections": [
        "Rut7dEgmPOLq"
      ],
      "include_colab_link": true
    },
    "kernelspec": {
      "name": "python3",
      "display_name": "Python 3"
    },
    "language_info": {
      "name": "python"
    }
  },
  "cells": [
    {
      "cell_type": "markdown",
      "metadata": {
        "id": "view-in-github",
        "colab_type": "text"
      },
      "source": [
        "<a href=\"https://colab.research.google.com/github/DyingTwice/MS/blob/main/MS_Lab_3.ipynb\" target=\"_parent\"><img src=\"https://colab.research.google.com/assets/colab-badge.svg\" alt=\"Open In Colab\"/></a>"
      ]
    },
    {
      "cell_type": "markdown",
      "source": [
        "# SimPy - Bike Sharing System\n",
        "In Lab 2, we introduced the basics of modeling and simulation by creating a simplified bike-sharing system using basic Python classes. We modeled stations, bikes, and trips between stations with probabilities, and analyzed the system over a 30-minute period.\n",
        "\n",
        "In Lab 3, we will take a step further by introducing SimPy, a powerful Python library for discrete-event simulation. SimPy allows us to model complex systems more efficiently and accurately. We will reimplement our bike-sharing system using SimPy and explore extensions and upgrades to enhance the system.\n"
      ],
      "metadata": {
        "id": "U9Szy1gGPCmz"
      }
    },
    {
      "cell_type": "markdown",
      "source": [
        "### Pip packages\n",
        "Pip is python's built-in package manager - it helps us install libraries that are not packaged inside Python's vanilla distribution.\n",
        "\n",
        "Perhaps the only pip command you need to know for this laboratory is pip install {package_name}. E.g. pip install simpy.\n",
        "This will download the necessary prerequisites, install them and make the library available for use using python's module import functionality.\n",
        "\n",
        "\n",
        "```\n",
        "import simpy\n",
        "```\n",
        "\n",
        "The pip commands only work in the terminal/command line, they are not python code. Jupyter notebooks (and hence Google Colab) environments allow calling commands in the terminal by adding an exclamation mark as a prefix:\n",
        "```\n",
        "!pip install simpy\n",
        "```\n"
      ],
      "metadata": {
        "id": "Rut7dEgmPOLq"
      }
    },
    {
      "cell_type": "code",
      "source": [
        "!pip install simpy"
      ],
      "metadata": {
        "colab": {
          "base_uri": "https://localhost:8080/"
        },
        "id": "s8NwIknolzrc",
        "outputId": "e71f5c10-2dab-4305-e7c5-71cd622db7df"
      },
      "execution_count": null,
      "outputs": [
        {
          "output_type": "stream",
          "name": "stdout",
          "text": [
            "Requirement already satisfied: simpy in /usr/local/lib/python3.10/dist-packages (4.1.1)\n"
          ]
        }
      ]
    },
    {
      "cell_type": "markdown",
      "source": [
        "SimPy is a process-based discrete-event simulation framework based on standard Python. It allows you to model systems where events occur at discrete points in time, making it ideal for simulating real-world processes like bike-sharing systems, queuing systems, network traffic, and more.\n",
        "\n",
        "Keywords when working with simpy:\n",
        "\n",
        "* Environment: Keep track of simulation time and schedule events.\n",
        "* Processes: Simulate concurrent activities in the system.\n",
        "* Events: Model the occurrence of incidents at specific times.\n",
        "* Resources: Manage limited resources like bikes and docks.\n"
      ],
      "metadata": {
        "id": "SxmAeTbAQpVf"
      }
    },
    {
      "cell_type": "code",
      "source": [
        "import simpy\n",
        "import random\n",
        "import matplotlib.pyplot as plt\n",
        "\n",
        "# The Environment in SimPy manages the simulation time and handles event scheduling. It acts as the central controller of the simulation.\n",
        "env = simpy.Environment()\n",
        "\n",
        "# Processes are functions that yield events. They simulate the behavior of active components in the system, like customers, machines, or in our case, bikes and trips.\n",
        "# Example of a simple process\n",
        "def simple_process(env):\n",
        "    while True:\n",
        "        print(f\"Time {env.now}: Process is running\")\n",
        "        yield env.timeout(1)  # Wait for 1 time unit\n",
        "\n",
        "\n",
        "# To start a process in SimPy, you add it to the environment:\n",
        "env.process(simple_process(env))\n"
      ],
      "metadata": {
        "id": "zP0NSpTGLZmh",
        "colab": {
          "base_uri": "https://localhost:8080/"
        },
        "outputId": "2c654d8e-cb61-4c25-b48f-a0edff7d53b0"
      },
      "execution_count": null,
      "outputs": [
        {
          "output_type": "execute_result",
          "data": {
            "text/plain": [
              "<Process(simple_process) object at 0x7a8e0c371de0>"
            ]
          },
          "metadata": {},
          "execution_count": 54
        }
      ]
    },
    {
      "cell_type": "markdown",
      "source": [
        "SimPy provides **resource** classes to model limited capacity constraints. Resources represent entities like servers, parking spaces, or bikes.\n",
        "\n",
        "* Resource: A generic resource with a limited number of slots.\n",
        "* Container: Represents the production and consumption of a homogeneous, undistinguishable bulk (like water in a tank).\n",
        "* Store: A resource where each item is distinct (e.g., individual bikes with unique IDs).\n",
        "\n",
        "For our bike-sharing system, we can use Container to represent the number of bikes at a station."
      ],
      "metadata": {
        "id": "H0PRaVGzMGiU"
      }
    },
    {
      "cell_type": "markdown",
      "source": [
        "### Reimplementing the Bike Share System with SimPy\n",
        "\n",
        "Defining the System Components\n",
        "* Stations: Entities with a capacity (number of docks) and a container for bikes.\n",
        "* Bikes: Represented as tokens in containers; we don't need to model individual bikes.\n",
        "* Trips: Processes that simulate the movement of bikes between stations."
      ],
      "metadata": {
        "id": "MW3_ejQ7NgWN"
      }
    },
    {
      "cell_type": "code",
      "source": [
        "# Defining the Station Class\n",
        "class Station:\n",
        "    def __init__(self, env, name, capacity, init_bikes):\n",
        "        self.env = env\n",
        "        self.name = name\n",
        "        self.capacity = capacity\n",
        "        self.bikes = simpy.Container(env, init=init_bikes, capacity=capacity)"
      ],
      "metadata": {
        "id": "tpy4551dMFZ-"
      },
      "execution_count": null,
      "outputs": []
    },
    {
      "cell_type": "code",
      "source": [
        "# Defining the Bike Trip Process\n",
        "def bike_trip(env, from_station, to_station, trip_duration):\n",
        "    if from_station.bikes.level > 0:\n",
        "        yield from_station.bikes.get(1)\n",
        "        print(f\"Time {env.now}: Bike taken from {from_station.name}\")\n",
        "    else:\n",
        "        print(f\"Time {env.now}: No bikes available at {from_station.name}\")\n",
        "        return  # Trip cannot proceed without a bike\n",
        "\n",
        "    # Simulate the trip duration\n",
        "    yield env.timeout(trip_duration)\n",
        "\n",
        "    if to_station.bikes.level < to_station.capacity:\n",
        "        yield to_station.bikes.put(1)\n",
        "        print(f\"Time {env.now}: Bike returned to {to_station.name}\")\n",
        "    else:\n",
        "        print(f\"Time {env.now}: No docks available at {to_station.name}, returning bike to {from_station.name}\")\n",
        "        yield env.timeout(trip_duration)\n",
        "        if from_station.bikes.level > 0:\n",
        "            yield from_station.bikes.put(1)\n",
        "            print(f\"Time {env.now}: Bike returned to {from_station.name}\")\n",
        "        # For simplicity, the bike is returned to original station - if there are no empty slots, we lose the bike"
      ],
      "metadata": {
        "id": "hUUaSzhuOF6B"
      },
      "execution_count": null,
      "outputs": []
    },
    {
      "cell_type": "code",
      "source": [
        "# Defining the Trip Generation Process\n",
        "\"\"\"\n",
        "The function generate_trips continuously checks if trips should occur between stations based on specified probabilities.\n",
        "For each possible trip, it generates a random number and compares it with the trip probability.\n",
        "If a trip is to occur, it starts a bike_trip process.\n",
        "\"\"\"\n",
        "def generate_trips(env, prob_matrix):\n",
        "    while True:\n",
        "        # Decide whether a trip occurs based on probabilities\n",
        "        for (from_station, to_station), prob in prob_matrix.items():\n",
        "            if random.uniform(0, 1) < prob:\n",
        "                trip_duration = 1  # Fixed trip duration for simplicity\n",
        "                env.process(bike_trip(env, from_station, to_station, trip_duration))\n",
        "        yield env.timeout(1)  # Wait for 1 minute before checking again"
      ],
      "metadata": {
        "id": "pPMmHmG1QZiB"
      },
      "execution_count": null,
      "outputs": []
    },
    {
      "cell_type": "code",
      "source": [
        "# Setting Up Stations and Probabilities\n",
        "\n",
        "# Create stations\n",
        "upt_station = Station(env, \"UPT\", capacity=10, init_bikes=5)\n",
        "center_station = Station(env, \"Center\", capacity=10, init_bikes=5)\n",
        "\n",
        "stations = [upt_station, center_station]\n",
        "\n",
        "# Define trip probabilities\n",
        "prob_matrix = {\n",
        "    (upt_station, center_station): 0.3,  # 30% chance per minute\n",
        "    (center_station, upt_station): 0.5,  # 50% chance per minute\n",
        "}\n"
      ],
      "metadata": {
        "id": "na2FiysYQ_Ja"
      },
      "execution_count": null,
      "outputs": []
    },
    {
      "cell_type": "code",
      "source": [
        "# Running the Simulation\n",
        "\n",
        "# Start the trip generation process\n",
        "env.process(generate_trips(env, prob_matrix))\n",
        "\n",
        "# Run the simulation for 30 minutes\n",
        "env.run(until=30)"
      ],
      "metadata": {
        "id": "UjEtO7CcRCZ1",
        "colab": {
          "base_uri": "https://localhost:8080/"
        },
        "outputId": "dc330155-b0b5-4248-c374-947f3defda2f"
      },
      "execution_count": null,
      "outputs": [
        {
          "output_type": "stream",
          "name": "stdout",
          "text": [
            "Time 0: Process is running\n",
            "Time 1: Process is running\n",
            "Time 1: Bike taken from UPT\n",
            "Time 1: Bike taken from Center\n",
            "Time 2: Process is running\n",
            "Time 2: Bike taken from Center\n",
            "Time 2: Bike returned to Center\n",
            "Time 2: Bike returned to UPT\n",
            "Time 3: Process is running\n",
            "Time 3: Bike returned to UPT\n",
            "Time 4: Process is running\n",
            "Time 4: Bike taken from UPT\n",
            "Time 5: Process is running\n",
            "Time 5: Bike taken from Center\n",
            "Time 5: Bike returned to Center\n",
            "Time 6: Process is running\n",
            "Time 6: Bike taken from UPT\n",
            "Time 6: Bike returned to UPT\n",
            "Time 7: Process is running\n",
            "Time 7: Bike taken from Center\n",
            "Time 7: Bike returned to Center\n",
            "Time 8: Process is running\n",
            "Time 8: Bike taken from Center\n",
            "Time 8: Bike returned to UPT\n",
            "Time 9: Process is running\n",
            "Time 9: Bike returned to UPT\n",
            "Time 10: Process is running\n",
            "Time 11: Process is running\n",
            "Time 12: Process is running\n",
            "Time 12: Bike taken from UPT\n",
            "Time 13: Process is running\n",
            "Time 13: Bike taken from UPT\n",
            "Time 13: Bike taken from Center\n",
            "Time 13: Bike returned to Center\n",
            "Time 14: Process is running\n",
            "Time 14: Bike taken from UPT\n",
            "Time 14: Bike taken from Center\n",
            "Time 14: Bike returned to Center\n",
            "Time 14: Bike returned to UPT\n",
            "Time 15: Process is running\n",
            "Time 15: Bike taken from Center\n",
            "Time 15: Bike returned to Center\n",
            "Time 15: Bike returned to UPT\n",
            "Time 16: Process is running\n",
            "Time 16: Bike taken from Center\n",
            "Time 16: Bike returned to UPT\n",
            "Time 17: Process is running\n",
            "Time 17: Bike taken from Center\n",
            "Time 17: Bike returned to UPT\n",
            "Time 18: Process is running\n",
            "Time 18: Bike returned to UPT\n",
            "Time 19: Process is running\n",
            "Time 19: Bike taken from UPT\n",
            "Time 20: Process is running\n",
            "Time 20: Bike returned to Center\n",
            "Time 21: Process is running\n",
            "Time 21: Bike taken from Center\n",
            "Time 22: Process is running\n",
            "Time 22: Bike taken from UPT\n",
            "Time 22: Bike returned to UPT\n",
            "Time 23: Process is running\n",
            "Time 23: Bike taken from UPT\n",
            "Time 23: Bike returned to Center\n",
            "Time 24: Process is running\n",
            "Time 24: Bike returned to Center\n",
            "Time 25: Process is running\n",
            "Time 25: Bike taken from Center\n",
            "Time 26: Process is running\n",
            "Time 26: Bike taken from Center\n",
            "Time 26: Bike returned to UPT\n",
            "Time 27: Process is running\n",
            "Time 27: Bike taken from UPT\n",
            "Time 27: Bike returned to UPT\n",
            "Time 28: Process is running\n",
            "Time 28: Bike taken from UPT\n",
            "Time 28: Bike returned to Center\n",
            "Time 29: Process is running\n",
            "Time 29: Bike taken from UPT\n",
            "Time 29: Bike returned to Center\n"
          ]
        }
      ]
    },
    {
      "cell_type": "markdown",
      "source": [
        "**Collecting Data**\n",
        "\n",
        "We need to record the number of bikes at each station over time for analysis. We'll create **a monitoring process** for this purpose."
      ],
      "metadata": {
        "id": "b2arFnIkRrdp"
      }
    },
    {
      "cell_type": "code",
      "source": [
        "def monitor_stations(env, stations, bike_levels):\n",
        "    while True:\n",
        "        for station in stations:\n",
        "            bike_levels[station.name].append((env.now, station.bikes.level))\n",
        "        yield env.timeout(1)"
      ],
      "metadata": {
        "id": "G1-VCEb1RtNr"
      },
      "execution_count": null,
      "outputs": []
    },
    {
      "cell_type": "code",
      "source": [
        "# Since we've added new processes, we should reset the environment and reinitialize everything.\n",
        "env = simpy.Environment()\n",
        "\n",
        "# Reinitialize stations\n",
        "upt_station = Station(env, \"UPT\", capacity=10, init_bikes=5)\n",
        "center_station = Station(env, \"Center\", capacity=10, init_bikes=5)\n",
        "stations = [upt_station, center_station]\n",
        "\n",
        "# Reinitialize the probability matrix\n",
        "prob_matrix = {\n",
        "    (upt_station, center_station): 0.3,\n",
        "    (center_station, upt_station): 0.5,\n",
        "}\n",
        "\n",
        "# Reinitialize the bike_levels dictionary\n",
        "bike_levels = {station.name: [] for station in stations}\n",
        "\n",
        "# Start the processes\n",
        "env.process(generate_trips(env, prob_matrix))\n",
        "env.process(monitor_stations(env, stations, bike_levels))\n",
        "\n",
        "# Run the simulation\n",
        "env.run(until=30)"
      ],
      "metadata": {
        "id": "9fDnNe6oSFpg",
        "colab": {
          "base_uri": "https://localhost:8080/"
        },
        "collapsed": true,
        "outputId": "730d6609-744e-443e-f6d9-a8655c15e15b"
      },
      "execution_count": null,
      "outputs": [
        {
          "output_type": "stream",
          "name": "stdout",
          "text": [
            "Time 1: Bike taken from UPT\n",
            "Time 2: Bike taken from UPT\n",
            "Time 2: Bike taken from Center\n",
            "Time 2: Bike returned to Center\n",
            "Time 3: Bike returned to Center\n",
            "Time 3: Bike returned to UPT\n",
            "Time 7: Bike taken from Center\n",
            "Time 8: Bike returned to UPT\n",
            "Time 9: Bike taken from Center\n",
            "Time 10: Bike returned to UPT\n",
            "Time 12: Bike taken from Center\n",
            "Time 13: Bike returned to UPT\n",
            "Time 15: Bike taken from UPT\n",
            "Time 15: Bike taken from Center\n",
            "Time 16: Bike taken from UPT\n",
            "Time 16: Bike taken from Center\n",
            "Time 16: Bike returned to Center\n",
            "Time 16: Bike returned to UPT\n",
            "Time 17: Bike taken from Center\n",
            "Time 17: Bike returned to Center\n",
            "Time 17: Bike returned to UPT\n",
            "Time 18: Bike returned to UPT\n",
            "Time 19: Bike taken from UPT\n",
            "Time 20: Bike taken from UPT\n",
            "Time 20: Bike taken from Center\n",
            "Time 20: Bike returned to Center\n",
            "Time 21: Bike taken from Center\n",
            "Time 21: Bike returned to Center\n",
            "Time 21: Bike returned to UPT\n",
            "Time 22: Bike returned to UPT\n",
            "Time 24: Bike taken from Center\n",
            "Time 25: Bike taken from Center\n",
            "Time 25: Bike returned to UPT\n",
            "Time 26: No bikes available at Center\n",
            "Time 26: Bike taken from UPT\n",
            "Time 26: Bike returned to UPT\n",
            "Time 27: No bikes available at Center\n",
            "Time 27: Bike taken from UPT\n",
            "Time 27: Bike returned to Center\n",
            "Time 28: Bike returned to Center\n",
            "Time 29: Bike taken from Center\n"
          ]
        }
      ]
    },
    {
      "cell_type": "code",
      "source": [
        "# Plotting the bike levels over time\n",
        "for station_name, levels in bike_levels.items():\n",
        "    times, counts = zip(*levels)\n",
        "    plt.plot(times, counts, label=station_name)\n",
        "\n",
        "plt.xlabel('Time (minutes)')\n",
        "plt.ylabel('Number of Bikes')\n",
        "plt.title('Bike Levels at Each Station Over Time')\n",
        "plt.legend()\n",
        "plt.grid(True)\n",
        "plt.show()"
      ],
      "metadata": {
        "colab": {
          "base_uri": "https://localhost:8080/",
          "height": 472
        },
        "id": "9yNwNJbGSbqJ",
        "outputId": "53381cfc-f4b4-41c8-cba8-1776595a4ac7"
      },
      "execution_count": null,
      "outputs": [
        {
          "output_type": "display_data",
          "data": {
            "text/plain": [
              "<Figure size 640x480 with 1 Axes>"
            ],
            "image/png": "[encoded data removed]"
          },
          "metadata": {}
        }
      ]
    },
    {
      "cell_type": "markdown",
      "source": [
        "### Extensions and Upgrades\n",
        "Now that we have a working simulation, let's explore some extensions to make the system more realistic."
      ],
      "metadata": {
        "id": "EKzGU84MUFMY"
      }
    },
    {
      "cell_type": "markdown",
      "source": [
        "### Extension 1: Adding More Stations\n",
        "Let's add a new station called \"P700\"."
      ],
      "metadata": {
        "id": "lVGR6ErfUHIP"
      }
    },
    {
      "cell_type": "code",
      "source": [
        "# Since we've added new processes, we should reset the environment and reinitialize everything.\n",
        "env = simpy.Environment()\n",
        "\n",
        "# Reinitialize stations\n",
        "upt_station = Station(env, \"UPT\", capacity=10, init_bikes=5)\n",
        "center_station = Station(env, \"Center\", capacity=10, init_bikes=5)\n",
        "P700_station = Station(env, \"P700\", capacity=12, init_bikes=7)\n",
        "\n",
        "stations = [upt_station, center_station, P700_station]\n",
        "\n",
        "# Reinitialize the probability matrix\n",
        "prob_matrix = {\n",
        "    (upt_station, center_station): 0.3,\n",
        "    (center_station, upt_station): 0.5,\n",
        "    (P700_station, upt_station): 0.4,\n",
        "    (P700_station, center_station): 0.2,\n",
        "    (upt_station, P700_station): 0.5,\n",
        "    (center_station, P700_station): 0.3,\n",
        "}\n",
        "\n",
        "# Reinitialize the bike_levels dictionary\n",
        "bike_levels = {station.name: [] for station in stations}\n",
        "\n",
        "# Start the processes\n",
        "env.process(generate_trips(env, prob_matrix))\n",
        "env.process(monitor_stations(env, stations, bike_levels))\n",
        "\n",
        "# Run the simulation\n",
        "env.run(until=30)"
      ],
      "metadata": {
        "id": "6pqHMGE0U2UU",
        "colab": {
          "base_uri": "https://localhost:8080/"
        },
        "outputId": "af35abd6-9a8d-4caa-8752-02309671566a"
      },
      "execution_count": null,
      "outputs": [
        {
          "output_type": "stream",
          "name": "stdout",
          "text": [
            "Time 0: Bike taken from UPT\n",
            "Time 0: Bike taken from Center\n",
            "Time 1: Bike taken from Center\n",
            "Time 1: Bike taken from P700\n",
            "Time 2: Bike taken from Center\n",
            "Time 3: Bike taken from Center\n",
            "Time 3: Bike taken from P700\n",
            "Time 4: Bike taken from Center\n",
            "Time 4: Bike taken from UPT\n",
            "Time 5: No bikes available at Center\n",
            "Time 5: Bike taken from P700\n",
            "Time 5: Bike taken from P700\n",
            "Time 5: Bike taken from UPT\n",
            "Time 6: No bikes available at Center\n",
            "Time 6: Bike taken from UPT\n",
            "Time 6: Bike taken from P700\n",
            "Time 6: Bike taken from P700\n",
            "Time 6: Bike taken from UPT\n",
            "Time 7: Bike returned to Center\n",
            "Time 7: Bike returned to P700\n",
            "Time 7: Bike taken from Center\n",
            "Time 7: Bike taken from P700\n",
            "Time 8: Bike returned to Center\n",
            "Time 8: Bike returned to UPT\n",
            "Time 8: Bike taken from Center\n",
            "Time 8: Bike taken from P700\n",
            "Time 8: Bike taken from UPT\n",
            "Time 9: No bikes available at Center\n",
            "Time 9: No bikes available at P700\n",
            "Time 10: No bikes available at Center\n",
            "Time 10: No bikes available at P700\n",
            "Time 10: No bikes available at UPT\n",
            "Time 10: Bike returned to UPT\n",
            "Time 10: Bike taken from UPT\n",
            "Time 11: No bikes available at Center\n",
            "Time 11: Bike returned to UPT\n",
            "Time 11: Bike taken from UPT\n",
            "Time 12: Bike returned to UPT\n",
            "Time 12: Bike returned to P700\n",
            "Time 12: Bike returned to UPT\n",
            "Time 13: Bike returned to UPT\n",
            "Time 13: Bike returned to Center\n",
            "Time 13: Bike returned to P700\n",
            "Time 13: Bike returned to Center\n",
            "Time 13: Bike taken from Center\n",
            "Time 14: No bikes available at Center\n",
            "Time 14: Bike returned to UPT\n",
            "Time 14: Bike returned to P700\n",
            "Time 14: Bike returned to P700\n",
            "Time 14: Bike taken from Center\n",
            "Time 14: Bike taken from P700\n",
            "Time 15: Bike returned to Center\n",
            "Time 15: Bike returned to UPT\n",
            "Time 15: Bike taken from UPT\n",
            "Time 16: Bike returned to Center\n",
            "Time 16: Bike returned to UPT\n",
            "Time 16: Bike taken from P700\n",
            "Time 16: Bike taken from UPT\n",
            "Time 17: Bike returned to UPT\n",
            "Time 17: Bike returned to P700\n",
            "Time 17: Bike taken from P700\n",
            "Time 17: Bike taken from UPT\n",
            "Time 18: Bike taken from Center\n",
            "Time 18: Bike taken from P700\n",
            "Time 18: Bike taken from Center\n",
            "Time 19: Bike returned to Center\n",
            "Time 19: Bike taken from Center\n",
            "Time 19: Bike taken from P700\n",
            "Time 19: Bike taken from UPT\n",
            "Time 20: Bike returned to Center\n",
            "Time 20: Bike returned to UPT\n",
            "Time 20: Bike returned to P700\n",
            "Time 20: Bike taken from P700\n",
            "Time 20: Bike taken from UPT\n",
            "Time 21: No bikes available at P700\n",
            "Time 21: Bike taken from UPT\n",
            "Time 22: No bikes available at P700\n",
            "Time 22: No bikes available at P700\n",
            "Time 22: Bike returned to UPT\n",
            "Time 22: Bike taken from Center\n",
            "Time 22: Bike taken from UPT\n",
            "Time 23: No bikes available at Center\n",
            "Time 23: No bikes available at Center\n",
            "Time 23: Bike returned to P700\n",
            "Time 23: Bike returned to UPT\n",
            "Time 23: Bike taken from UPT\n",
            "Time 23: Bike taken from P700\n",
            "Time 23: Bike taken from UPT\n",
            "Time 24: No bikes available at P700\n",
            "Time 24: Bike returned to P700\n",
            "Time 24: Bike returned to Center\n",
            "Time 24: Bike taken from P700\n",
            "Time 24: Bike taken from UPT\n",
            "Time 25: Bike returned to UPT\n",
            "Time 25: Bike returned to P700\n",
            "Time 25: Bike returned to UPT\n",
            "Time 25: Bike returned to Center\n",
            "Time 25: Bike returned to P700\n",
            "Time 25: Bike taken from P700\n",
            "Time 26: Bike returned to UPT\n",
            "Time 26: Bike returned to UPT\n",
            "Time 26: Bike taken from Center\n",
            "Time 27: No bikes available at Center\n",
            "Time 27: Bike returned to P700\n",
            "Time 27: Bike taken from Center\n",
            "Time 28: Bike returned to P700\n",
            "Time 28: Bike returned to Center\n",
            "Time 28: Bike taken from P700\n",
            "Time 29: Bike returned to UPT\n",
            "Time 29: Bike returned to P700\n",
            "Time 29: Bike taken from UPT\n",
            "Time 29: Bike taken from P700\n"
          ]
        }
      ]
    },
    {
      "cell_type": "markdown",
      "source": [
        "### Extension 2: Introducing Variable Trip Durations\n",
        "Instead of fixed trip durations, we can have random durations."
      ],
      "metadata": {
        "id": "0IY4jw1sVETK"
      }
    },
    {
      "cell_type": "code",
      "source": [
        "# Defining the Trip Generation Process\n",
        "\"\"\"\n",
        "The function generate_trips continuously checks if trips should occur between stations based on specified probabilities.\n",
        "For each possible trip, it generates a random number and compares it with the trip probability.\n",
        "If a trip is to occur, it starts a bike_trip process.\n",
        "\"\"\"\n",
        "def generate_trips(env, prob_matrix):\n",
        "    while True:\n",
        "        # Decide whether a trip occurs based on probabilities\n",
        "        for (from_station, to_station), prob in prob_matrix.items():\n",
        "            if random.uniform(0, 1) < prob:\n",
        "                trip_duration = random.randint(5, 10)  # Fixed trip duration for simplicity\n",
        "                env.process(bike_trip(env, from_station, to_station, trip_duration))\n",
        "        yield env.timeout(1)  # Wait for 1 minute before checking again"
      ],
      "metadata": {
        "id": "DwGgzb4QVJ2A"
      },
      "execution_count": null,
      "outputs": []
    },
    {
      "cell_type": "markdown",
      "source": [
        "### Extension 3: Implementing Rebalancing\n",
        "Introduce a process that periodically moves bikes to balance the stations."
      ],
      "metadata": {
        "id": "ZWPWHrr6VL8d"
      }
    },
    {
      "cell_type": "code",
      "source": [
        "# Add stations rebalancing\n",
        "# Defining the Bike Trip Process\n",
        "def bike_trip(env, from_station, to_station, trip_duration):\n",
        "    if from_station.bikes.level > 0:\n",
        "        yield from_station.bikes.get(1)\n",
        "        print(f\"Time {env.now}: Bike taken from {from_station.name}\")\n",
        "    else:\n",
        "        print(f\"Time {env.now}: No bikes available at {from_station.name}\")\n",
        "        return  # Trip cannot proceed without a bike\n",
        "\n",
        "    # Simulate the trip duration\n",
        "    yield env.timeout(trip_duration)\n",
        "\n",
        "    if to_station.bikes.level < to_station.capacity:\n",
        "        yield to_station.bikes.put(1)\n",
        "        print(f\"Time {env.now}: Bike returned to {to_station.name}\")\n",
        "    else:\n",
        "        print(f\"Time {env.now}: No docks available at {to_station.name}, returning bike to {from_station.name}\")\n",
        "        yield env.timeout(trip_duration)\n",
        "        if from_station.bikes.level > 0:\n",
        "            yield from_station.bikes.put(1)\n",
        "            print(f\"Time {env.now}: Bike returned to {from_station.name}\")\n",
        "        # For simplicity, the bike is returned to original station - if there are no empty slots, we lose the bike\n",
        "def rebalance_bikes(env, stations):\n",
        "    while True:\n",
        "        for station in stations:\n",
        "          if station.bikes.level == 0:\n",
        "            if max(bike_levels[station.name],\n",
        "\n",
        "\n",
        "\n"
      ],
      "metadata": {
        "id": "TD_uFnfzVP6U"
      },
      "execution_count": null,
      "outputs": []
    },
    {
      "cell_type": "markdown",
      "source": [
        "### Extension 4: Analyzing Unhappy Customers\n",
        "Track the number of times a customer cannot rent or return a bike."
      ],
      "metadata": {
        "id": "7VBCsarSVc9B"
      }
    },
    {
      "cell_type": "code",
      "source": [
        "# Add a global variable tracking unhappy customers and increment it on each new unhappy customer\n",
        "unhappy_customers = 0"
      ],
      "metadata": {
        "id": "VFY64ma1VWBW"
      },
      "execution_count": null,
      "outputs": []
    },
    {
      "cell_type": "markdown",
      "source": [
        "### Simulate over multiple runs and analyze average unhappy customers"
      ],
      "metadata": {
        "id": "VKAU1xxFVrmD"
      }
    },
    {
      "cell_type": "code",
      "source": [
        "# Write your multi-run simulation & plotting code below"
      ],
      "metadata": {
        "id": "HQaNSeUuVsH3"
      },
      "execution_count": null,
      "outputs": []
    },
    {
      "cell_type": "markdown",
      "source": [
        "Ideas of things that can be analyzed to assess impact on results\n",
        "\n",
        "* Change the initial number of bikes at each station.\n",
        "* Adjust the trip probabilities in the prob_matrix.\n",
        "* Add more stations or different rebalancing strategies."
      ],
      "metadata": {
        "id": "xS6NNjfFW4gg"
      }
    }
  ]
}